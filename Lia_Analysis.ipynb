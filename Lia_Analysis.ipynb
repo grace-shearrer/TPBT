{
 "cells": [
  {
   "cell_type": "markdown",
   "metadata": {},
   "source": [
    "# Notebook for analysis of Lia's aims for undergrad dissertation "
   ]
  },
  {
   "cell_type": "code",
   "execution_count": 9,
   "metadata": {},
   "outputs": [
    {
     "name": "stderr",
     "output_type": "stream",
     "text": [
      "\n",
      "Attaching package: ‘dplyr’\n",
      "\n",
      "The following object is masked from ‘package:reshape’:\n",
      "\n",
      "    rename\n",
      "\n",
      "The following objects are masked from ‘package:stats’:\n",
      "\n",
      "    filter, lag\n",
      "\n",
      "The following objects are masked from ‘package:base’:\n",
      "\n",
      "    intersect, setdiff, setequal, union\n",
      "\n"
     ]
    }
   ],
   "source": [
    "library(psych)\n",
    "library(ggplot2)\n",
    "library(reshape2)\n",
    "library(dplyr)"
   ]
  },
  {
   "cell_type": "code",
   "execution_count": 2,
   "metadata": {},
   "outputs": [],
   "source": [
    "data<-read.table(\"~/Google Drive/Lias_stuff/data/variables_interest.csv\", sep=\",\", header=T, fill=T)"
   ]
  },
  {
   "cell_type": "code",
   "execution_count": 4,
   "metadata": {},
   "outputs": [
    {
     "data": {
      "text/html": [
       "<ol class=list-inline>\n",
       "\t<li>73</li>\n",
       "\t<li>56</li>\n",
       "</ol>\n"
      ],
      "text/latex": [
       "\\begin{enumerate*}\n",
       "\\item 73\n",
       "\\item 56\n",
       "\\end{enumerate*}\n"
      ],
      "text/markdown": [
       "1. 73\n",
       "2. 56\n",
       "\n",
       "\n"
      ],
      "text/plain": [
       "[1] 73 56"
      ]
     },
     "metadata": {},
     "output_type": "display_data"
    }
   ],
   "source": [
    "dim(data)"
   ]
  },
  {
   "cell_type": "code",
   "execution_count": 5,
   "metadata": {},
   "outputs": [
    {
     "data": {
      "text/html": [
       "<table>\n",
       "<thead><tr><th scope=col>PID</th><th scope=col>Assigned.Beverage</th><th scope=col>Sweet</th><th scope=col>w1_BMI</th><th scope=col>w1_BMI_status</th><th scope=col>age</th><th scope=col>ethnicity</th><th scope=col>race</th><th scope=col>gender</th><th scope=col>adlib_assigned</th><th scope=col>⋯</th><th scope=col>b5_tpbq_assigned_aa</th><th scope=col>b5_tpbq_assigned_ia</th><th scope=col>b5_tpbq_assigned_sn</th><th scope=col>b5_tpbq_assigned_pbc</th><th scope=col>b5_tpbq_assigned_bi</th><th scope=col>w2_tpbq_assigned_aa</th><th scope=col>w2_tpbq_assigned_ia</th><th scope=col>w2_tpbq_assigned_sn</th><th scope=col>w2_tpbq_assigned_pbc</th><th scope=col>w2_tpbq_assigned_bi</th></tr></thead>\n",
       "<tbody>\n",
       "\t<tr><td>bbx_001 </td><td>UCO     </td><td>0       </td><td>21.07869</td><td>0       </td><td>22      </td><td>0       </td><td>2       </td><td>0       </td><td> 0.1    </td><td>⋯       </td><td>      NA</td><td>      NA</td><td>      NA</td><td>      NA</td><td> NA     </td><td>3.000000</td><td>5.000000</td><td>3.333333</td><td>4.666667</td><td>1.5     </td></tr>\n",
       "\t<tr><td>bbx_002 </td><td>USL     </td><td>0       </td><td>34.55076</td><td>1       </td><td>21      </td><td>0       </td><td>5       </td><td>0       </td><td> 0.0    </td><td>⋯       </td><td>      NA</td><td>      NA</td><td>      NA</td><td>      NA</td><td> NA     </td><td>4.333333</td><td>4.666667</td><td>4.666667</td><td>4.666667</td><td>7.0     </td></tr>\n",
       "\t<tr><td>bbx_003 </td><td>USL     </td><td>0       </td><td>21.39481</td><td>0       </td><td>19      </td><td>0       </td><td>5       </td><td>0       </td><td> 0.0    </td><td>⋯       </td><td>      NA</td><td>      NA</td><td>      NA</td><td>      NA</td><td> NA     </td><td>      NA</td><td>      NA</td><td>      NA</td><td>      NA</td><td> NA     </td></tr>\n",
       "\t<tr><td>bbx_004 </td><td>SL      </td><td>1       </td><td>20.37629</td><td>0       </td><td>22      </td><td>0       </td><td>5       </td><td>0       </td><td>-0.2    </td><td>⋯       </td><td>2.666667</td><td>3.333333</td><td>3.333333</td><td>4.666667</td><td>5.5     </td><td>3.000000</td><td>3.666667</td><td>3.333333</td><td>2.666667</td><td>5.0     </td></tr>\n",
       "\t<tr><td>bbx_005 </td><td>CO      </td><td>1       </td><td>22.85640</td><td>0       </td><td>20      </td><td>0       </td><td>5       </td><td>0       </td><td> 2.3    </td><td>⋯       </td><td>3.000000</td><td>4.333333</td><td>4.666667</td><td>4.666667</td><td>1.5     </td><td>3.000000</td><td>4.666667</td><td>5.000000</td><td>4.666667</td><td>7.0     </td></tr>\n",
       "\t<tr><td>bbx_006 </td><td>USL     </td><td>0       </td><td>21.77146</td><td>0       </td><td>21      </td><td>0       </td><td>5       </td><td>0       </td><td>97.6    </td><td>⋯       </td><td>3.000000</td><td>4.000000</td><td>3.333333</td><td>4.666667</td><td>5.0     </td><td>3.333333</td><td>4.000000</td><td>3.333333</td><td>4.666667</td><td>5.5     </td></tr>\n",
       "</tbody>\n",
       "</table>\n"
      ],
      "text/latex": [
       "\\begin{tabular}{r|llllllllllllllllllllllllllllllllllllllllllllllllllllllll}\n",
       " PID & Assigned.Beverage & Sweet & w1\\_BMI & w1\\_BMI\\_status & age & ethnicity & race & gender & adlib\\_assigned & ⋯ & b5\\_tpbq\\_assigned\\_aa & b5\\_tpbq\\_assigned\\_ia & b5\\_tpbq\\_assigned\\_sn & b5\\_tpbq\\_assigned\\_pbc & b5\\_tpbq\\_assigned\\_bi & w2\\_tpbq\\_assigned\\_aa & w2\\_tpbq\\_assigned\\_ia & w2\\_tpbq\\_assigned\\_sn & w2\\_tpbq\\_assigned\\_pbc & w2\\_tpbq\\_assigned\\_bi\\\\\n",
       "\\hline\n",
       "\t bbx\\_001 & UCO       & 0         & 21.07869  & 0         & 22        & 0         & 2         & 0         &  0.1      & ⋯         &       NA  &       NA  &       NA  &       NA  &  NA       & 3.000000  & 5.000000  & 3.333333  & 4.666667  & 1.5      \\\\\n",
       "\t bbx\\_002 & USL       & 0         & 34.55076  & 1         & 21        & 0         & 5         & 0         &  0.0      & ⋯         &       NA  &       NA  &       NA  &       NA  &  NA       & 4.333333  & 4.666667  & 4.666667  & 4.666667  & 7.0      \\\\\n",
       "\t bbx\\_003 & USL       & 0         & 21.39481  & 0         & 19        & 0         & 5         & 0         &  0.0      & ⋯         &       NA  &       NA  &       NA  &       NA  &  NA       &       NA  &       NA  &       NA  &       NA  &  NA      \\\\\n",
       "\t bbx\\_004 & SL        & 1         & 20.37629  & 0         & 22        & 0         & 5         & 0         & -0.2      & ⋯         & 2.666667  & 3.333333  & 3.333333  & 4.666667  & 5.5       & 3.000000  & 3.666667  & 3.333333  & 2.666667  & 5.0      \\\\\n",
       "\t bbx\\_005 & CO        & 1         & 22.85640  & 0         & 20        & 0         & 5         & 0         &  2.3      & ⋯         & 3.000000  & 4.333333  & 4.666667  & 4.666667  & 1.5       & 3.000000  & 4.666667  & 5.000000  & 4.666667  & 7.0      \\\\\n",
       "\t bbx\\_006 & USL       & 0         & 21.77146  & 0         & 21        & 0         & 5         & 0         & 97.6      & ⋯         & 3.000000  & 4.000000  & 3.333333  & 4.666667  & 5.0       & 3.333333  & 4.000000  & 3.333333  & 4.666667  & 5.5      \\\\\n",
       "\\end{tabular}\n"
      ],
      "text/markdown": [
       "\n",
       "| PID | Assigned.Beverage | Sweet | w1_BMI | w1_BMI_status | age | ethnicity | race | gender | adlib_assigned | ⋯ | b5_tpbq_assigned_aa | b5_tpbq_assigned_ia | b5_tpbq_assigned_sn | b5_tpbq_assigned_pbc | b5_tpbq_assigned_bi | w2_tpbq_assigned_aa | w2_tpbq_assigned_ia | w2_tpbq_assigned_sn | w2_tpbq_assigned_pbc | w2_tpbq_assigned_bi |\n",
       "|---|---|---|---|---|---|---|---|---|---|---|---|---|---|---|---|---|---|---|---|---|\n",
       "| bbx_001  | UCO      | 0        | 21.07869 | 0        | 22       | 0        | 2        | 0        |  0.1     | ⋯        |       NA |       NA |       NA |       NA |  NA      | 3.000000 | 5.000000 | 3.333333 | 4.666667 | 1.5      |\n",
       "| bbx_002  | USL      | 0        | 34.55076 | 1        | 21       | 0        | 5        | 0        |  0.0     | ⋯        |       NA |       NA |       NA |       NA |  NA      | 4.333333 | 4.666667 | 4.666667 | 4.666667 | 7.0      |\n",
       "| bbx_003  | USL      | 0        | 21.39481 | 0        | 19       | 0        | 5        | 0        |  0.0     | ⋯        |       NA |       NA |       NA |       NA |  NA      |       NA |       NA |       NA |       NA |  NA      |\n",
       "| bbx_004  | SL       | 1        | 20.37629 | 0        | 22       | 0        | 5        | 0        | -0.2     | ⋯        | 2.666667 | 3.333333 | 3.333333 | 4.666667 | 5.5      | 3.000000 | 3.666667 | 3.333333 | 2.666667 | 5.0      |\n",
       "| bbx_005  | CO       | 1        | 22.85640 | 0        | 20       | 0        | 5        | 0        |  2.3     | ⋯        | 3.000000 | 4.333333 | 4.666667 | 4.666667 | 1.5      | 3.000000 | 4.666667 | 5.000000 | 4.666667 | 7.0      |\n",
       "| bbx_006  | USL      | 0        | 21.77146 | 0        | 21       | 0        | 5        | 0        | 97.6     | ⋯        | 3.000000 | 4.000000 | 3.333333 | 4.666667 | 5.0      | 3.333333 | 4.000000 | 3.333333 | 4.666667 | 5.5      |\n",
       "\n"
      ],
      "text/plain": [
       "  PID     Assigned.Beverage Sweet w1_BMI   w1_BMI_status age ethnicity race\n",
       "1 bbx_001 UCO               0     21.07869 0             22  0         2   \n",
       "2 bbx_002 USL               0     34.55076 1             21  0         5   \n",
       "3 bbx_003 USL               0     21.39481 0             19  0         5   \n",
       "4 bbx_004 SL                1     20.37629 0             22  0         5   \n",
       "5 bbx_005 CO                1     22.85640 0             20  0         5   \n",
       "6 bbx_006 USL               0     21.77146 0             21  0         5   \n",
       "  gender adlib_assigned ⋯ b5_tpbq_assigned_aa b5_tpbq_assigned_ia\n",
       "1 0       0.1           ⋯       NA                  NA           \n",
       "2 0       0.0           ⋯       NA                  NA           \n",
       "3 0       0.0           ⋯       NA                  NA           \n",
       "4 0      -0.2           ⋯ 2.666667            3.333333           \n",
       "5 0       2.3           ⋯ 3.000000            4.333333           \n",
       "6 0      97.6           ⋯ 3.000000            4.000000           \n",
       "  b5_tpbq_assigned_sn b5_tpbq_assigned_pbc b5_tpbq_assigned_bi\n",
       "1       NA                  NA              NA                \n",
       "2       NA                  NA              NA                \n",
       "3       NA                  NA              NA                \n",
       "4 3.333333            4.666667             5.5                \n",
       "5 4.666667            4.666667             1.5                \n",
       "6 3.333333            4.666667             5.0                \n",
       "  w2_tpbq_assigned_aa w2_tpbq_assigned_ia w2_tpbq_assigned_sn\n",
       "1 3.000000            5.000000            3.333333           \n",
       "2 4.333333            4.666667            4.666667           \n",
       "3       NA                  NA                  NA           \n",
       "4 3.000000            3.666667            3.333333           \n",
       "5 3.000000            4.666667            5.000000           \n",
       "6 3.333333            4.000000            3.333333           \n",
       "  w2_tpbq_assigned_pbc w2_tpbq_assigned_bi\n",
       "1 4.666667             1.5                \n",
       "2 4.666667             7.0                \n",
       "3       NA              NA                \n",
       "4 2.666667             5.0                \n",
       "5 4.666667             7.0                \n",
       "6 4.666667             5.5                "
      ]
     },
     "metadata": {},
     "output_type": "display_data"
    }
   ],
   "source": [
    "head(data)"
   ]
  },
  {
   "cell_type": "markdown",
   "metadata": {},
   "source": [
    "## Code Dictionary\n",
    "PID: bbx participant\t\n",
    "Assigned Beverage: Character type, UCO, USL, CO, SL\n",
    "\n",
    "Sweet: assigned beverage sweetness, 1=SL/CO (sweet), 0=USL/UCO (unsweet)\n",
    "\n",
    "w1_BMI: continuous, BMI based off W1 behavioral visit height and weight\n",
    "\n",
    "w1_BMI_status: dichotomous, 0=below 25 BMI, 1=above 25 BMI\n",
    "\n",
    "Age: continuous\n",
    "\n",
    "Ethnicity: Hispanic/Latino, 0=no, 1=yes\n",
    "Race: \n",
    "* 1      -american Indian or Alaska native\n",
    "* 1-    Asian\n",
    "* 2-    Black or African American\n",
    "* 3-    Native Hawaiian or other specific islander\n",
    "* 4-    White\n",
    "* 5-    Middle eastern or northern African\n",
    "* 6-    Other ____\n",
    "\n",
    "Gender: 0=Male, 1=Female\n",
    "\n",
    "### Naming breakdown:\n",
    "* time data was taken at (w1= behavioral 1, b5= bevshop 5, w2= behavioral 2)\n",
    "* TPB questionnaire\n",
    "* Beverage (ssb=soda, usb=water, assigned= assigned beverage)\n",
    "* TPB construct (aa= affective attitude, ia= instrumental attitude, sn= subjective norm, pbc= perceived behavioral control, bi= behavioral intention)\n",
    "* i.e. w1_tpbq_ssb_aa = first behavioral, soda’s affective attitude score (mean of related questions)"
   ]
  },
  {
   "cell_type": "markdown",
   "metadata": {},
   "source": [
    "## Variables of interest\n",
    "#### Dependent variable\n",
    "TPB constructs: \n",
    "* affective attitude (AA)\n",
    "* instrumental attitude (IA)\n",
    "* subjective norms (SN)\n",
    "* perceived behavioral control (BC)\n",
    "* behavioral intention (BI)\n",
    "#### Independent variable\n",
    "* Assigned Beverage Sweetness\n",
    "#### Covariates\n",
    "* BMI: continuous\n",
    "* Age\n",
    "* Gender\n",
    "* Race\n",
    "* Ethnicity\n",
    "#### random effects\n",
    "* Time\n",
    "* PID\n",
    "\n"
   ]
  },
  {
   "cell_type": "markdown",
   "metadata": {},
   "source": [
    "## Split dataset by the construct"
   ]
  },
  {
   "cell_type": "code",
   "execution_count": 10,
   "metadata": {},
   "outputs": [
    {
     "data": {
      "text/html": [
       "<ol class=list-inline>\n",
       "\t<li>'PID'</li>\n",
       "\t<li>'Assigned.Beverage'</li>\n",
       "\t<li>'Sweet'</li>\n",
       "\t<li>'w1_BMI'</li>\n",
       "\t<li>'w1_BMI_status'</li>\n",
       "\t<li>'age'</li>\n",
       "\t<li>'ethnicity'</li>\n",
       "\t<li>'race'</li>\n",
       "\t<li>'gender'</li>\n",
       "\t<li>'adlib_assigned'</li>\n",
       "\t<li>'adlib_alt'</li>\n",
       "\t<li>'w1_tpbq_ssb_aa'</li>\n",
       "\t<li>'w1_tpbq_ssb_ia'</li>\n",
       "\t<li>'w1_tpbq_ssb_sn'</li>\n",
       "\t<li>'w1_tpbq_ssb_pbc'</li>\n",
       "\t<li>'w1_tpbq_ssb_bi'</li>\n",
       "\t<li>'b5_tpbq_ssb_aa'</li>\n",
       "\t<li>'b5_tpbq_ssb_ia'</li>\n",
       "\t<li>'b5_tpbq_ssb_sn'</li>\n",
       "\t<li>'b5_tpbq_ssb_pbc'</li>\n",
       "\t<li>'b5_tpbq_ssb_bi'</li>\n",
       "\t<li>'w2_tpbq_ssb_aa'</li>\n",
       "\t<li>'w2_tpbq_ssb_ia'</li>\n",
       "\t<li>'w2_tpbq_ssb_sn'</li>\n",
       "\t<li>'w2_tpbq_ssb_pbc'</li>\n",
       "\t<li>'w2_tpbq_ssb_bi'</li>\n",
       "\t<li>'w1_tpbq_usb_aa'</li>\n",
       "\t<li>'w1_tpbq_usb_ia'</li>\n",
       "\t<li>'w1_tpbq_usb_sn'</li>\n",
       "\t<li>'w1_tpbq_usb_pbc'</li>\n",
       "\t<li>'w1_tpbq_usb_bi'</li>\n",
       "\t<li>'b5_tpbq_usb_aa'</li>\n",
       "\t<li>'b5_tpbq_usb_ia'</li>\n",
       "\t<li>'b5_tpbq_usb_sn'</li>\n",
       "\t<li>'b5_tpbq_usb_pbc'</li>\n",
       "\t<li>'b5_tpbq_usb_bi'</li>\n",
       "\t<li>'w2_tpbq_usb_aa'</li>\n",
       "\t<li>'w2_tpbq_usb_ia'</li>\n",
       "\t<li>'w2_tpbq_usb_sn'</li>\n",
       "\t<li>'w2_tpbq_usb_pbc'</li>\n",
       "\t<li>'w2_tpbq_usb_bi'</li>\n",
       "\t<li>'w1_tpbq_assigned_aa'</li>\n",
       "\t<li>'w1_tpbq_assigned_ia'</li>\n",
       "\t<li>'w1_tpbq_assigned_sn'</li>\n",
       "\t<li>'w1_tpbq_assigned_pbc'</li>\n",
       "\t<li>'w1_tpbq_assigned_bi'</li>\n",
       "\t<li>'b5_tpbq_assigned_aa'</li>\n",
       "\t<li>'b5_tpbq_assigned_ia'</li>\n",
       "\t<li>'b5_tpbq_assigned_sn'</li>\n",
       "\t<li>'b5_tpbq_assigned_pbc'</li>\n",
       "\t<li>'b5_tpbq_assigned_bi'</li>\n",
       "\t<li>'w2_tpbq_assigned_aa'</li>\n",
       "\t<li>'w2_tpbq_assigned_ia'</li>\n",
       "\t<li>'w2_tpbq_assigned_sn'</li>\n",
       "\t<li>'w2_tpbq_assigned_pbc'</li>\n",
       "\t<li>'w2_tpbq_assigned_bi'</li>\n",
       "</ol>\n"
      ],
      "text/latex": [
       "\\begin{enumerate*}\n",
       "\\item 'PID'\n",
       "\\item 'Assigned.Beverage'\n",
       "\\item 'Sweet'\n",
       "\\item 'w1\\_BMI'\n",
       "\\item 'w1\\_BMI\\_status'\n",
       "\\item 'age'\n",
       "\\item 'ethnicity'\n",
       "\\item 'race'\n",
       "\\item 'gender'\n",
       "\\item 'adlib\\_assigned'\n",
       "\\item 'adlib\\_alt'\n",
       "\\item 'w1\\_tpbq\\_ssb\\_aa'\n",
       "\\item 'w1\\_tpbq\\_ssb\\_ia'\n",
       "\\item 'w1\\_tpbq\\_ssb\\_sn'\n",
       "\\item 'w1\\_tpbq\\_ssb\\_pbc'\n",
       "\\item 'w1\\_tpbq\\_ssb\\_bi'\n",
       "\\item 'b5\\_tpbq\\_ssb\\_aa'\n",
       "\\item 'b5\\_tpbq\\_ssb\\_ia'\n",
       "\\item 'b5\\_tpbq\\_ssb\\_sn'\n",
       "\\item 'b5\\_tpbq\\_ssb\\_pbc'\n",
       "\\item 'b5\\_tpbq\\_ssb\\_bi'\n",
       "\\item 'w2\\_tpbq\\_ssb\\_aa'\n",
       "\\item 'w2\\_tpbq\\_ssb\\_ia'\n",
       "\\item 'w2\\_tpbq\\_ssb\\_sn'\n",
       "\\item 'w2\\_tpbq\\_ssb\\_pbc'\n",
       "\\item 'w2\\_tpbq\\_ssb\\_bi'\n",
       "\\item 'w1\\_tpbq\\_usb\\_aa'\n",
       "\\item 'w1\\_tpbq\\_usb\\_ia'\n",
       "\\item 'w1\\_tpbq\\_usb\\_sn'\n",
       "\\item 'w1\\_tpbq\\_usb\\_pbc'\n",
       "\\item 'w1\\_tpbq\\_usb\\_bi'\n",
       "\\item 'b5\\_tpbq\\_usb\\_aa'\n",
       "\\item 'b5\\_tpbq\\_usb\\_ia'\n",
       "\\item 'b5\\_tpbq\\_usb\\_sn'\n",
       "\\item 'b5\\_tpbq\\_usb\\_pbc'\n",
       "\\item 'b5\\_tpbq\\_usb\\_bi'\n",
       "\\item 'w2\\_tpbq\\_usb\\_aa'\n",
       "\\item 'w2\\_tpbq\\_usb\\_ia'\n",
       "\\item 'w2\\_tpbq\\_usb\\_sn'\n",
       "\\item 'w2\\_tpbq\\_usb\\_pbc'\n",
       "\\item 'w2\\_tpbq\\_usb\\_bi'\n",
       "\\item 'w1\\_tpbq\\_assigned\\_aa'\n",
       "\\item 'w1\\_tpbq\\_assigned\\_ia'\n",
       "\\item 'w1\\_tpbq\\_assigned\\_sn'\n",
       "\\item 'w1\\_tpbq\\_assigned\\_pbc'\n",
       "\\item 'w1\\_tpbq\\_assigned\\_bi'\n",
       "\\item 'b5\\_tpbq\\_assigned\\_aa'\n",
       "\\item 'b5\\_tpbq\\_assigned\\_ia'\n",
       "\\item 'b5\\_tpbq\\_assigned\\_sn'\n",
       "\\item 'b5\\_tpbq\\_assigned\\_pbc'\n",
       "\\item 'b5\\_tpbq\\_assigned\\_bi'\n",
       "\\item 'w2\\_tpbq\\_assigned\\_aa'\n",
       "\\item 'w2\\_tpbq\\_assigned\\_ia'\n",
       "\\item 'w2\\_tpbq\\_assigned\\_sn'\n",
       "\\item 'w2\\_tpbq\\_assigned\\_pbc'\n",
       "\\item 'w2\\_tpbq\\_assigned\\_bi'\n",
       "\\end{enumerate*}\n"
      ],
      "text/markdown": [
       "1. 'PID'\n",
       "2. 'Assigned.Beverage'\n",
       "3. 'Sweet'\n",
       "4. 'w1_BMI'\n",
       "5. 'w1_BMI_status'\n",
       "6. 'age'\n",
       "7. 'ethnicity'\n",
       "8. 'race'\n",
       "9. 'gender'\n",
       "10. 'adlib_assigned'\n",
       "11. 'adlib_alt'\n",
       "12. 'w1_tpbq_ssb_aa'\n",
       "13. 'w1_tpbq_ssb_ia'\n",
       "14. 'w1_tpbq_ssb_sn'\n",
       "15. 'w1_tpbq_ssb_pbc'\n",
       "16. 'w1_tpbq_ssb_bi'\n",
       "17. 'b5_tpbq_ssb_aa'\n",
       "18. 'b5_tpbq_ssb_ia'\n",
       "19. 'b5_tpbq_ssb_sn'\n",
       "20. 'b5_tpbq_ssb_pbc'\n",
       "21. 'b5_tpbq_ssb_bi'\n",
       "22. 'w2_tpbq_ssb_aa'\n",
       "23. 'w2_tpbq_ssb_ia'\n",
       "24. 'w2_tpbq_ssb_sn'\n",
       "25. 'w2_tpbq_ssb_pbc'\n",
       "26. 'w2_tpbq_ssb_bi'\n",
       "27. 'w1_tpbq_usb_aa'\n",
       "28. 'w1_tpbq_usb_ia'\n",
       "29. 'w1_tpbq_usb_sn'\n",
       "30. 'w1_tpbq_usb_pbc'\n",
       "31. 'w1_tpbq_usb_bi'\n",
       "32. 'b5_tpbq_usb_aa'\n",
       "33. 'b5_tpbq_usb_ia'\n",
       "34. 'b5_tpbq_usb_sn'\n",
       "35. 'b5_tpbq_usb_pbc'\n",
       "36. 'b5_tpbq_usb_bi'\n",
       "37. 'w2_tpbq_usb_aa'\n",
       "38. 'w2_tpbq_usb_ia'\n",
       "39. 'w2_tpbq_usb_sn'\n",
       "40. 'w2_tpbq_usb_pbc'\n",
       "41. 'w2_tpbq_usb_bi'\n",
       "42. 'w1_tpbq_assigned_aa'\n",
       "43. 'w1_tpbq_assigned_ia'\n",
       "44. 'w1_tpbq_assigned_sn'\n",
       "45. 'w1_tpbq_assigned_pbc'\n",
       "46. 'w1_tpbq_assigned_bi'\n",
       "47. 'b5_tpbq_assigned_aa'\n",
       "48. 'b5_tpbq_assigned_ia'\n",
       "49. 'b5_tpbq_assigned_sn'\n",
       "50. 'b5_tpbq_assigned_pbc'\n",
       "51. 'b5_tpbq_assigned_bi'\n",
       "52. 'w2_tpbq_assigned_aa'\n",
       "53. 'w2_tpbq_assigned_ia'\n",
       "54. 'w2_tpbq_assigned_sn'\n",
       "55. 'w2_tpbq_assigned_pbc'\n",
       "56. 'w2_tpbq_assigned_bi'\n",
       "\n",
       "\n"
      ],
      "text/plain": [
       " [1] \"PID\"                  \"Assigned.Beverage\"    \"Sweet\"               \n",
       " [4] \"w1_BMI\"               \"w1_BMI_status\"        \"age\"                 \n",
       " [7] \"ethnicity\"            \"race\"                 \"gender\"              \n",
       "[10] \"adlib_assigned\"       \"adlib_alt\"            \"w1_tpbq_ssb_aa\"      \n",
       "[13] \"w1_tpbq_ssb_ia\"       \"w1_tpbq_ssb_sn\"       \"w1_tpbq_ssb_pbc\"     \n",
       "[16] \"w1_tpbq_ssb_bi\"       \"b5_tpbq_ssb_aa\"       \"b5_tpbq_ssb_ia\"      \n",
       "[19] \"b5_tpbq_ssb_sn\"       \"b5_tpbq_ssb_pbc\"      \"b5_tpbq_ssb_bi\"      \n",
       "[22] \"w2_tpbq_ssb_aa\"       \"w2_tpbq_ssb_ia\"       \"w2_tpbq_ssb_sn\"      \n",
       "[25] \"w2_tpbq_ssb_pbc\"      \"w2_tpbq_ssb_bi\"       \"w1_tpbq_usb_aa\"      \n",
       "[28] \"w1_tpbq_usb_ia\"       \"w1_tpbq_usb_sn\"       \"w1_tpbq_usb_pbc\"     \n",
       "[31] \"w1_tpbq_usb_bi\"       \"b5_tpbq_usb_aa\"       \"b5_tpbq_usb_ia\"      \n",
       "[34] \"b5_tpbq_usb_sn\"       \"b5_tpbq_usb_pbc\"      \"b5_tpbq_usb_bi\"      \n",
       "[37] \"w2_tpbq_usb_aa\"       \"w2_tpbq_usb_ia\"       \"w2_tpbq_usb_sn\"      \n",
       "[40] \"w2_tpbq_usb_pbc\"      \"w2_tpbq_usb_bi\"       \"w1_tpbq_assigned_aa\" \n",
       "[43] \"w1_tpbq_assigned_ia\"  \"w1_tpbq_assigned_sn\"  \"w1_tpbq_assigned_pbc\"\n",
       "[46] \"w1_tpbq_assigned_bi\"  \"b5_tpbq_assigned_aa\"  \"b5_tpbq_assigned_ia\" \n",
       "[49] \"b5_tpbq_assigned_sn\"  \"b5_tpbq_assigned_pbc\" \"b5_tpbq_assigned_bi\" \n",
       "[52] \"w2_tpbq_assigned_aa\"  \"w2_tpbq_assigned_ia\"  \"w2_tpbq_assigned_sn\" \n",
       "[55] \"w2_tpbq_assigned_pbc\" \"w2_tpbq_assigned_bi\" "
      ]
     },
     "metadata": {},
     "output_type": "display_data"
    }
   ],
   "source": [
    "names(data)"
   ]
  },
  {
   "cell_type": "code",
   "execution_count": 21,
   "metadata": {},
   "outputs": [
    {
     "name": "stderr",
     "output_type": "stream",
     "text": [
      "Adding missing grouping variables: `Sweet`\n"
     ]
    }
   ],
   "source": [
    "AA <- data %>% group_by(Sweet) %>% \n",
    "  select('PID','w1_BMI', 'w1_BMI_status', \n",
    "         'age', 'ethnicity', 'race', \n",
    "         'gender', 'w1_tpbq_ssb_aa', \n",
    "         'b5_tpbq_ssb_aa', 'w2_tpbq_ssb_aa', \n",
    "         'w1_tpbq_usb_aa', 'b5_tpbq_usb_aa',  'w2_tpbq_usb_aa')"
   ]
  },
  {
   "cell_type": "code",
   "execution_count": 22,
   "metadata": {},
   "outputs": [
    {
     "data": {
      "text/html": [
       "<ol class=list-inline>\n",
       "\t<li>73</li>\n",
       "\t<li>14</li>\n",
       "</ol>\n"
      ],
      "text/latex": [
       "\\begin{enumerate*}\n",
       "\\item 73\n",
       "\\item 14\n",
       "\\end{enumerate*}\n"
      ],
      "text/markdown": [
       "1. 73\n",
       "2. 14\n",
       "\n",
       "\n"
      ],
      "text/plain": [
       "[1] 73 14"
      ]
     },
     "metadata": {},
     "output_type": "display_data"
    },
    {
     "data": {
      "text/html": [
       "<ol class=list-inline>\n",
       "\t<li>'Sweet'</li>\n",
       "\t<li>'PID'</li>\n",
       "\t<li>'w1_BMI'</li>\n",
       "\t<li>'w1_BMI_status'</li>\n",
       "\t<li>'age'</li>\n",
       "\t<li>'ethnicity'</li>\n",
       "\t<li>'race'</li>\n",
       "\t<li>'gender'</li>\n",
       "\t<li>'w1_tpbq_ssb_aa'</li>\n",
       "\t<li>'b5_tpbq_ssb_aa'</li>\n",
       "\t<li>'w2_tpbq_ssb_aa'</li>\n",
       "\t<li>'w1_tpbq_usb_aa'</li>\n",
       "\t<li>'b5_tpbq_usb_aa'</li>\n",
       "\t<li>'w2_tpbq_usb_aa'</li>\n",
       "</ol>\n"
      ],
      "text/latex": [
       "\\begin{enumerate*}\n",
       "\\item 'Sweet'\n",
       "\\item 'PID'\n",
       "\\item 'w1\\_BMI'\n",
       "\\item 'w1\\_BMI\\_status'\n",
       "\\item 'age'\n",
       "\\item 'ethnicity'\n",
       "\\item 'race'\n",
       "\\item 'gender'\n",
       "\\item 'w1\\_tpbq\\_ssb\\_aa'\n",
       "\\item 'b5\\_tpbq\\_ssb\\_aa'\n",
       "\\item 'w2\\_tpbq\\_ssb\\_aa'\n",
       "\\item 'w1\\_tpbq\\_usb\\_aa'\n",
       "\\item 'b5\\_tpbq\\_usb\\_aa'\n",
       "\\item 'w2\\_tpbq\\_usb\\_aa'\n",
       "\\end{enumerate*}\n"
      ],
      "text/markdown": [
       "1. 'Sweet'\n",
       "2. 'PID'\n",
       "3. 'w1_BMI'\n",
       "4. 'w1_BMI_status'\n",
       "5. 'age'\n",
       "6. 'ethnicity'\n",
       "7. 'race'\n",
       "8. 'gender'\n",
       "9. 'w1_tpbq_ssb_aa'\n",
       "10. 'b5_tpbq_ssb_aa'\n",
       "11. 'w2_tpbq_ssb_aa'\n",
       "12. 'w1_tpbq_usb_aa'\n",
       "13. 'b5_tpbq_usb_aa'\n",
       "14. 'w2_tpbq_usb_aa'\n",
       "\n",
       "\n"
      ],
      "text/plain": [
       " [1] \"Sweet\"          \"PID\"            \"w1_BMI\"         \"w1_BMI_status\" \n",
       " [5] \"age\"            \"ethnicity\"      \"race\"           \"gender\"        \n",
       " [9] \"w1_tpbq_ssb_aa\" \"b5_tpbq_ssb_aa\" \"w2_tpbq_ssb_aa\" \"w1_tpbq_usb_aa\"\n",
       "[13] \"b5_tpbq_usb_aa\" \"w2_tpbq_usb_aa\""
      ]
     },
     "metadata": {},
     "output_type": "display_data"
    }
   ],
   "source": [
    "dim(AA)\n",
    "names(AA)"
   ]
  },
  {
   "cell_type": "code",
   "execution_count": 15,
   "metadata": {},
   "outputs": [
    {
     "ename": "ERROR",
     "evalue": "Error in parse(text = x, srcfile = src): <text>:2:19: unexpected string constant\n1: AA <- data %>% group_by(Sweet) %>% \n2:   select('w1_BMI' 'w1_BMI_status'\n                     ^\n",
     "output_type": "error",
     "traceback": [
      "Error in parse(text = x, srcfile = src): <text>:2:19: unexpected string constant\n1: AA <- data %>% group_by(Sweet) %>% \n2:   select('w1_BMI' 'w1_BMI_status'\n                     ^\nTraceback:\n"
     ]
    }
   ],
   "source": [
    "IA <- data %>% group_by(Sweet) %>% \n",
    "  select('PID','w1_BMI', 'w1_BMI_status', \n",
    "         'age', 'ethnicity', 'race', \n",
    "         'gender', 'w1_tpbq_ssb_ia', \n",
    "         'b5_tpbq_ssb_ia', 'w2_tpbq_ssb_aa', \n",
    "         'w1_tpbq_usb_aa', 'b5_tpbq_usb_aa',  'w2_tpbq_usb_aa')"
   ]
  },
  {
   "cell_type": "code",
   "execution_count": null,
   "metadata": {},
   "outputs": [],
   "source": []
  }
 ],
 "metadata": {
  "kernelspec": {
   "display_name": "R",
   "language": "R",
   "name": "ir"
  },
  "language_info": {
   "codemirror_mode": "r",
   "file_extension": ".r",
   "mimetype": "text/x-r-source",
   "name": "R",
   "pygments_lexer": "r",
   "version": "3.4.2"
  }
 },
 "nbformat": 4,
 "nbformat_minor": 2
}
